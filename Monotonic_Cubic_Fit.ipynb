{
 "cells": [
  {
   "cell_type": "markdown",
   "metadata": {},
   "source": [
    "# Fit a cubic function which is monotonically increasing in range [f, g] by a semidefinite programming\n",
    "\n",
    "find a least squares solution of a cubic polynomial which is monotonically increasing in the range [f, g] and passes through some fixed points.\n",
    "\n",
    "such a polynomial has a derivative which can be represented using SOS(sum-of-squares) of polynomials, which in turn can be represented using quadratic forms of symmetric semidefinite matrices.\n",
    "\n",
    "this notebook shows how to fit such a cubic polynomial to noisy data by first formulate the problem as SDP(semidefinite programming), and then solve the SDP using a convex solver: CVXOPT."
   ]
  },
  {
   "cell_type": "code",
   "execution_count": 1,
   "metadata": {},
   "outputs": [],
   "source": [
    "import IPython.display\n",
    "import numpy as np\n",
    "import matplotlib.pyplot as plt\n",
    "from cvxopt import matrix, solvers"
   ]
  },
  {
   "cell_type": "markdown",
   "metadata": {},
   "source": [
    "## create noisy datapoints from the ground truth"
   ]
  },
  {
   "cell_type": "code",
   "execution_count": 2,
   "metadata": {},
   "outputs": [
    {
     "data": {
      "image/png": "[encoded data removed]",
      "text/plain": [
       "<matplotlib.figure.Figure at 0x1ac447b51d0>"
      ]
     },
     "metadata": {},
     "output_type": "display_data"
    }
   ],
   "source": [
    "f, g = 0, 1\n",
    "#gt = [0, 2.2, -1.9, 0.7] # another polynomial. nonnegative derivative in [0, 1]\n",
    "gt = [0, 2, -6, 5] # ground truth. slightly negative derivative in [0, 1]\n",
    "def target_func(x): return gt[3] * x**3 + gt[2] * x**2 + gt[1] * x + gt[0]\n",
    "\n",
    "np.random.seed(0)\n",
    "xs = np.linspace(f, g, 20)\n",
    "ts = target_func(xs)\n",
    "ys = ts + np.random.randn(*xs.shape) * 0.04\n",
    "\n",
    "# fitted function must pass through these points.\n",
    "fixed_xs = [0.4, 1]\n",
    "fixed_ys = [0.2, 1]\n",
    "\n",
    "fig, ax = plt.subplots(1, 1)\n",
    "ax.plot(xs, ts, '-', linewidth=3, color='lightgray', label='ground truth: $p(x) = {}x^3 {:+}x^2 {:+}x {:+}$'.format(gt[3], gt[2], gt[1], gt[0]))\n",
    "ax.plot(xs, ys, 'o', label='data')\n",
    "ax.plot(fixed_xs, fixed_ys, '*', ms=10, label='fixed points')\n",
    "ax.set_xlim(f, g)\n",
    "ax.legend(loc='best', fancybox=True)\n",
    "plt.show()"
   ]
  },
  {
   "cell_type": "markdown",
   "metadata": {},
   "source": [
    "## formulate the problem as a SDP and solve it using CVXOPT"
   ]
  },
  {
   "cell_type": "code",
   "execution_count": 3,
   "metadata": {},
   "outputs": [
    {
     "name": "stdout",
     "output_type": "stream",
     "text": [
      "     pcost       dcost       gap    pres   dres   k/t\n",
      " 0: -3.7796e+00 -2.2331e+01  9e+01  3e+00  2e+01  1e+00\n",
      " 1: -1.4929e-01 -7.2604e+00  3e+01  1e+00  8e+00  2e+00\n",
      " 2: -1.2908e-01 -6.9687e-01  2e+00  2e-01  1e+00  8e-01\n",
      " 3: -2.5924e-01 -7.8806e-01  2e+00  1e-01  9e-01  5e-01\n",
      " 4:  8.0392e-02 -4.1570e-02  4e-01  2e-02  1e-01  5e-02\n",
      " 5:  1.0268e-01  6.7512e-02  1e-01  6e-03  4e-02  1e-02\n",
      " 6:  1.1121e-01  1.0245e-01  3e-02  2e-03  1e-02  3e-03\n",
      " 7:  1.1503e-01  1.1420e-01  2e-03  1e-04  8e-04  2e-04\n",
      " 8:  1.1537e-01  1.1529e-01  2e-04  1e-05  8e-05  2e-05\n",
      " 9:  1.1542e-01  1.1541e-01  2e-05  1e-06  7e-06  1e-06\n",
      "10:  1.1542e-01  1.1542e-01  1e-06  7e-08  5e-07  7e-08\n",
      "11:  1.1542e-01  1.1542e-01  9e-08  4e-09  3e-08  4e-09\n",
      "Optimal solution found.\n",
      "[[  1.46199089  -3.84197902]\n",
      " [ -3.84197902  10.09637129]]\n"
     ]
    },
    {
     "data": {
      "text/plain": [
       "{'dual infeasibility': 2.9100897272015526e-08,\n",
       " 'dual objective': 0.11542447590612696,\n",
       " 'dual slack': 3.1607849255833284e-10,\n",
       " 'gap': 8.612091303189027e-08,\n",
       " 'iterations': 11,\n",
       " 'primal infeasibility': 4.433415932441286e-09,\n",
       " 'primal objective': 0.11542450649373039,\n",
       " 'primal slack': 1.1598518549209732e-09,\n",
       " 'relative gap': 7.461234920566688e-07,\n",
       " 'residual as dual infeasibility certificate': None,\n",
       " 'residual as primal infeasibility certificate': None,\n",
       " 'sl': <0x1 matrix, tc='d'>,\n",
       " 'ss': [<1x1 matrix, tc='d'>, <21x21 matrix, tc='d'>, <2x2 matrix, tc='d'>],\n",
       " 'status': 'optimal',\n",
       " 'x': <7x1 matrix, tc='d'>,\n",
       " 'y': <3x1 matrix, tc='d'>,\n",
       " 'zl': <0x1 matrix, tc='d'>,\n",
       " 'zs': [<1x1 matrix, tc='d'>, <21x21 matrix, tc='d'>, <2x2 matrix, tc='d'>]}"
      ]
     },
     "execution_count": 3,
     "metadata": {},
     "output_type": "execute_result"
    }
   ],
   "source": [
    "# min_param r\n",
    "#  s.t. param = (s00 s01 s10 s11 | C | t | r)\n",
    "#       ||Y - Vp||**2 <= r\n",
    "#       Y = (y0 y1..), V=(1 x1^1 x1^2 x1^3; ..; 1 xn^1 xn^2 xn^3)\n",
    "#       p = (p0 p1 p2 p3) = M param\n",
    "#       p(x) = integral(p'(x)dx) + C\n",
    "#\n",
    "#       F_xi p = fixed_yi  : fixed points.\n",
    "\n",
    "# index for eachvariable.\n",
    "# - s and t: for nonnegative quadratic function in [f, g]\n",
    "# - r: slack variable\n",
    "i_s00, i_s01, i_s10, i_s11, i_C, i_t, i_r = range(7)\n",
    "\n",
    "# min r = c' param\n",
    "c = matrix([0.0] * 7)\n",
    "c[i_r] = 1.0\n",
    "\n",
    "# define a matrix M to extract polynomial coefficients from <param>.\n",
    "# (p0 p1 p2 p3) = M param\n",
    "j_p0, j_p1, j_p2, j_p3 = range(4)\n",
    "M = matrix(0.0, (4, 7))\n",
    "# p0 = C\n",
    "M[j_p0, i_C] = 1.0\n",
    "# p1 = s00 - f g t\n",
    "M[j_p1, i_s00] = 1.0\n",
    "M[j_p1, i_t] = - f * g\n",
    "# p2 = (s01 + s10 + (f + g) t) / 2\n",
    "M[j_p2, i_s01] = 0.5\n",
    "M[j_p2, i_s10] = 0.5\n",
    "M[j_p2, i_t  ] = 0.5 * (f + g)\n",
    "# p3 = s11 - t\n",
    "M[j_p3, i_s11] = 1.0 / 3\n",
    "M[j_p3, i_t]   = -1.0 / 3\n",
    "\n",
    "# V: the Vandermonde's matrix \n",
    "N = len(xs)\n",
    "V = matrix(0.0, (N, 4))\n",
    "for i, x in enumerate(xs):\n",
    "    V[i, j_p0] = 1\n",
    "    V[i, j_p1] = x\n",
    "    V[i, j_p2] = x**2\n",
    "    V[i, j_p3] = x**3\n",
    "\n",
    "VM = V * M\n",
    "\n",
    "# objective least squares is converted into a SDP condition using the slack variable <r>.\n",
    "#\n",
    "# s1 = mat(h1) - mat(G1 param) = [ I, V M param; V M param', r + 2 Y' V M param - Y' Y ] >= 0\n",
    "# dim(V M param) = N.\n",
    "# => dim(s1) = (N + 1)^2\n",
    "Y = matrix(ys)\n",
    "YVM = Y.T * VM\n",
    "h1 = matrix(0.0, ((N + 1), (N + 1)))\n",
    "G1 = matrix(0.0, ((N + 1) * (N + 1), 7))\n",
    "for i in range(N):\n",
    "    # I block\n",
    "    h1[i, i] = 1.0\n",
    "    # V M param block\n",
    "    for j in range(7):\n",
    "        G1[i * (N + 1) + N, j] = -VM[i, j]\n",
    "        G1[N * (N + 1) + i, j] = -VM[i, j]\n",
    "    # scalar block\n",
    "    h1[N, N] = - Y.T * Y\n",
    "    for j in range(7):\n",
    "        G1[N * (N + 1) + N, j] = - 2 * YVM[j]\n",
    "    G1[N * (N + 1) + N, i_r] -= 1\n",
    "\n",
    "# required for nonnegative derivative of the polynomial in range [f, g].\n",
    "# quadratic that is nonnegative in [f, g] is represented as:\n",
    "#  f(x) = s(x) + (x-f)(g-x)t(x)\n",
    "#  where s and t are a SOS(sum-of-squares), which can be constructed from the quadratic form of symmetric semidefinite Qs, Qt.\n",
    "# s2 = Qs = [s00 s01; s10 s11] >= 0\n",
    "h2 = matrix(0.0, (2, 2))\n",
    "G2 = matrix(0.0, (4, 7))\n",
    "G2[0, i_s00] = -1.0\n",
    "G2[1, i_s01] = -1.0\n",
    "G2[2, i_s10] = -1.0\n",
    "G2[3, i_s11] = -1.0\n",
    "\n",
    "# s3 = Qt = [t] >= 0\n",
    "h0 = matrix(0.0, (1, 1))\n",
    "G0 = matrix(0.0, (1, 7))\n",
    "G0[i_t] = -1.0\n",
    "\n",
    "# linear constraints\n",
    "N_fixed = len(fixed_xs)\n",
    "Ap = matrix(0.0, (N_fixed, 4))\n",
    "b = matrix(0.0, (N_fixed + 1, 1))\n",
    "# Vandermonde's matrix for fixed points.\n",
    "for i, (x, y) in enumerate(zip(fixed_xs, fixed_ys)):\n",
    "    Ap[i, j_p0] = 1.0\n",
    "    Ap[i, j_p1] = x\n",
    "    Ap[i, j_p2] = x**2\n",
    "    Ap[i, j_p3] = x**3\n",
    "    b[i] = y\n",
    "A = matrix(0.0, (N_fixed + 1, 7))\n",
    "A[:-1, :] = Ap * M\n",
    "# s01 = s10\n",
    "A[-1, i_s01] = 1.0\n",
    "A[-1, i_s10] = -1.0\n",
    "b[-1] = 0.0\n",
    "\n",
    "# solve the SDP.\n",
    "result = solvers.sdp(c, Gs=[G0, G1, G2], hs=[h0, h1, h2], A=A, b=b)\n",
    "s00, s01, s10, s11, p0, t, r = result['x']\n",
    "s1 = np.array([s00, s01, s10, s11]).reshape(2, 2)\n",
    "print(s1)\n",
    "\n",
    "result"
   ]
  },
  {
   "cell_type": "code",
   "execution_count": 4,
   "metadata": {},
   "outputs": [
    {
     "name": "stdout",
     "output_type": "stream",
     "text": [
      "found a polynomial:\n"
     ]
    },
    {
     "data": {
      "text/latex": [
       "$$p(x) = 3.3654570883472266x^3 -3.841979009959642x^2 +1.4619908894551572x +0.014531032157257252$$"
      ],
      "text/plain": [
       "<IPython.core.display.Math object>"
      ]
     },
     "metadata": {},
     "output_type": "display_data"
    },
    {
     "name": "stdout",
     "output_type": "stream",
     "text": [
      "ground truth:\n"
     ]
    },
    {
     "data": {
      "text/latex": [
       "$$p(x) = 5x^3 -6x^2 +2x +0$$"
      ],
      "text/plain": [
       "<IPython.core.display.Math object>"
      ]
     },
     "metadata": {},
     "output_type": "display_data"
    }
   ],
   "source": [
    "p = M * result['x']\n",
    "p0 = p[j_p0]\n",
    "p1 = p[j_p1]\n",
    "p2 = p[j_p2]\n",
    "p3 = p[j_p3]\n",
    "\n",
    "import IPython.display\n",
    "print('found a polynomial:')\n",
    "IPython.display.display(IPython.display.Math(r'p(x) = {}x^3 {:+}x^2 {:+}x {:+}'.format(p3, p2, p1, p0)))\n",
    "print('ground truth:')\n",
    "IPython.display.display(IPython.display.Math(r'p(x) = {}x^3 {:+}x^2 {:+}x {:+}'.format(gt[3], gt[2], gt[1], gt[0])))"
   ]
  },
  {
   "cell_type": "code",
   "execution_count": 5,
   "metadata": {},
   "outputs": [
    {
     "data": {
      "image/png": "[encoded data removed]",
      "text/plain": [
       "<matplotlib.figure.Figure at 0x1ac44b0c080>"
      ]
     },
     "metadata": {},
     "output_type": "display_data"
    }
   ],
   "source": [
    "# visualize\n",
    "def found_cubic_polynomial(x):\n",
    "    return p3 * x**3 + p2 * x**2 + p1 * x + p0\n",
    "def found_cubic_polynomial_prime(x):\n",
    "    return 3 * p3 * x**2 + 2 * p2 * x + p1\n",
    "\n",
    "fs = found_cubic_polynomial(xs)\n",
    "fig, ax = plt.subplots(1, 2, figsize=(12, 4))\n",
    "ax[0].plot(xs, ts, '-', linewidth=3, color='lightgray', label='ground truth: $p(x) = {}x^3 {:+}x^2 {:+}x {:+}$'.format(gt[3], gt[2], gt[1], gt[0]))\n",
    "ax[0].plot(xs, ys, 'o', label='data')\n",
    "ax[0].plot(fixed_xs, fixed_ys, '*', ms=10, label='fixed points')\n",
    "ax[0].plot(xs, fs, '-', linewidth=5, alpha=0.5, label='monotonically increasing cubic arpprox.')\n",
    "ax[0].set_xlim(f, g)\n",
    "ax[0].legend(loc='best', fancybox=True)\n",
    "ax[1].plot(xs, found_cubic_polynomial_prime(xs), label=r'$\\hat{{p}}^\\prime(x) = {:.4f}x^2 {:+.4f}x {:+.4f}$'.format(3*p3, 2*p2, p1))\n",
    "ax[1].axhline(y=0, color='gray')\n",
    "ax[1].set_xlim(f, g)\n",
    "ax[1].legend(loc='best', fancybox=True)\n",
    "fig.suptitle(r'$\\hat{{p}}(x) = {}x^3 {:+}x^2 {:+}x {:+}$'.format(p3, p2, p1, p0))\n",
    "plt.show()"
   ]
  },
  {
   "cell_type": "markdown",
   "metadata": {},
   "source": [
    "# Reference\n",
    " * CVXOPT semidefinite programming: http://cvxopt.org/userguide/coneprog.html#semidefinite-programming\n",
    " * use a quadratic objective in SDP: https://math.stackexchange.com/questions/2256241/writing-a-convex-quadratic-program-qp-as-a-semidefinite-program-sdp\n",
    " * sums of squares for nonnegative polynominals: http://stellar.mit.edu/S/course/6/sp10/6.256/courseMaterial/topics/topic2/lectureNotes/lecture-10/lecture-10.pdf\n",
    " * monotonically increasing polynomials: https://math.stackexchange.com/questions/60610/polynomial-fitting-where-polynomial-must-be-monotonically-increasing\n",
    " "
   ]
  }
 ],
 "metadata": {
  "kernelspec": {
   "display_name": "Python 3",
   "language": "python",
   "name": "python3"
  },
  "language_info": {
   "codemirror_mode": {
    "name": "ipython",
    "version": 3
   },
   "file_extension": ".py",
   "mimetype": "text/x-python",
   "name": "python",
   "nbconvert_exporter": "python",
   "pygments_lexer": "ipython3",
   "version": "3.6.2"
  }
 },
 "nbformat": 4,
 "nbformat_minor": 2
}
